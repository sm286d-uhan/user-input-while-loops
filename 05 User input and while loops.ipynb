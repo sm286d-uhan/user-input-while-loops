{
 "cells": [
  {
   "cell_type": "markdown",
   "metadata": {
    "hide_cell": true
   },
   "source": [
    "<span class='note'><i>Make me look good.</i> Click on the cell below and press <kbd>Ctrl</kbd>+<kbd>Enter</kbd>.</span>"
   ]
  },
  {
   "cell_type": "code",
   "execution_count": null,
   "metadata": {
    "hide_cell": true
   },
   "outputs": [],
   "source": [
    "from IPython.core.display import HTML\n",
    "HTML(open('css/custom.css', 'r').read())"
   ]
  },
  {
   "cell_type": "markdown",
   "metadata": {
    "hide_cell": true
   },
   "source": [
    "<h5 class='prehead'>SM286D &middot; Introduction to Applied Mathematics with Python &middot; Spring 2020 &middot; Uhan</h5>\n",
    "\n",
    "<h5 class='lesson'>Lesson 5.</h5>\n",
    "\n",
    "<h1 class='lesson_title'>User input and while loops</h1>"
   ]
  },
  {
   "cell_type": "markdown",
   "metadata": {},
   "source": [
    "## This lesson..."
   ]
  },
  {
   "cell_type": "markdown",
   "metadata": {},
   "source": [
    "- User input\n",
    "- `while` loops"
   ]
  },
  {
   "cell_type": "markdown",
   "metadata": {},
   "source": [
    "---"
   ]
  },
  {
   "cell_type": "markdown",
   "metadata": {},
   "source": [
    "## User input"
   ]
  },
  {
   "cell_type": "markdown",
   "metadata": {},
   "source": [
    "- Often you will want to get information from a user and incorporate that information into your program.\n",
    "\n",
    "- In Python, we can use the `input()` function to do this.\n",
    "\n",
    "- __Pro tip.__ The `input()` function <span style=\"rred\">always</span> results in the user input being converted to a <span style=\"rred\">string</span>.\n",
    "\n",
    "- Consider the following example:"
   ]
  },
  {
   "cell_type": "code",
   "execution_count": null,
   "metadata": {},
   "outputs": [],
   "source": [
    "# Ask for the user's age\n",
    "\n",
    "\n",
    "# What type of data does input() return?\n"
   ]
  },
  {
   "cell_type": "markdown",
   "metadata": {},
   "source": [
    "- You can convert a string to an integer or a float using `int()` and `float()` respectively:"
   ]
  },
  {
   "cell_type": "code",
   "execution_count": null,
   "metadata": {},
   "outputs": [],
   "source": [
    "# Convert age to an integer\n",
    "\n",
    "\n",
    "# Print to check the new variable\n",
    "print(age_int)\n",
    "\n",
    "# What type does the new variable have?\n",
    "print(type(age_int))"
   ]
  },
  {
   "cell_type": "code",
   "execution_count": null,
   "metadata": {
    "scrolled": true
   },
   "outputs": [],
   "source": [
    "# Covert age to a float\n",
    "\n",
    "\n",
    "# Print to check the new variable\n",
    "print(age_float)\n",
    "\n",
    "# What type does the new variable have?\n",
    "print(type(age_float))"
   ]
  },
  {
   "cell_type": "markdown",
   "metadata": {},
   "source": [
    "__Problem.__ (PCC 5-10: Checking Usernames, modified) Do the following to create a program that simulates how websites ensure that everyone has a unique username. \n",
    "\n",
    "- Make a list of five or more usernames called `current_users`.\n",
    "- Ask the user to input their desired username.\n",
    "- Check to see if the user's desired username is taken:\n",
    "    - If taken, print a message saying that username is taken.\n",
    "    - If not taken, print a message saying that username is available.\n",
    "- Assume usernames are case-sensitive (so `Nelson` and `nelson` are not the same)."
   ]
  },
  {
   "cell_type": "code",
   "execution_count": null,
   "metadata": {},
   "outputs": [],
   "source": [
    "# List of current users\n",
    "current_users = ['ProfessorAwesome', 'Bingham', 'RustyChipmunk', 'ShineSpike', 'IAmSam15']\n",
    "\n",
    "# Write your code below\n"
   ]
  },
  {
   "cell_type": "markdown",
   "metadata": {},
   "source": [
    "---"
   ]
  },
  {
   "cell_type": "markdown",
   "metadata": {},
   "source": [
    "## While loops"
   ]
  },
  {
   "cell_type": "markdown",
   "metadata": {},
   "source": [
    "- A `while` loop runs a block of code *while* some statement is true.\n",
    "\n",
    "- A `while` loop stops <span style=\"rred\">only</span> when the statement evaluates to `False`, or when the `break` statement is used\n",
    "\n",
    "- Consider the following examples:"
   ]
  },
  {
   "cell_type": "code",
   "execution_count": null,
   "metadata": {},
   "outputs": [],
   "source": [
    "from IPython.display import IFrame\n",
    "IFrame(\"http://pythontutor.com/iframe-embed.html#code=x%20%3D%200%0Awhile%20x%20%3C%3D%205%3A%0A%20%20%20%20print%28x%29%0A%20%20%20%20x%20%2B%3D%201&codeDivHeight=400&codeDivWidth=350&cumulative=false&curInstr=0&heapPrimitives=false&origin=opt-frontend.js&py=3&rawInputLstJSON=%5B%5D&textReferences=false\", width=800, height=400)"
   ]
  },
  {
   "cell_type": "code",
   "execution_count": null,
   "metadata": {},
   "outputs": [],
   "source": [
    "from IPython.display import IFrame\n",
    "IFrame(\"http://pythontutor.com/iframe-embed.html#code=x%20%3D%200%0Awhile%20True%3A%0A%20%20%20%20print%28x%29%0A%20%20%20%20x%20%2B%3D%201%0A%20%20%20%20%0A%20%20%20%20if%20x%20%3E%205%3A%0A%20%20%20%20%20%20%20%20break%0A%20%20%20%20&codeDivHeight=400&codeDivWidth=350&cumulative=false&curInstr=0&heapPrimitives=false&origin=opt-frontend.js&py=3&rawInputLstJSON=%5B%5D&textReferences=false\", width=800, height=400)"
   ]
  },
  {
   "cell_type": "markdown",
   "metadata": {},
   "source": [
    "### Infinite loops and manually stopping a program"
   ]
  },
  {
   "cell_type": "markdown",
   "metadata": {},
   "source": [
    "- `for` loops always run for a fixed number of iterations.\n",
    "\n",
    "- On the other hand, it is possible for a `while` loop to run forever!\n",
    "\n",
    "- The code cell below contains an example of an infinite loop.\n",
    "\n",
    "- To stop the code in the cell below, you will need to click on the <kbd>&#9724;</kbd> button (interrupt the kernel) or the <kbd>&#8635;</kbd> button (restart the kernel) in the toolbar."
   ]
  },
  {
   "cell_type": "code",
   "execution_count": null,
   "metadata": {
    "scrolled": true
   },
   "outputs": [],
   "source": [
    "x = 0\n",
    "while True:\n",
    "    print(x)\n",
    "    x += 1"
   ]
  },
  {
   "cell_type": "markdown",
   "metadata": {},
   "source": [
    "__Problem. (PCC 5-10: Checking Usernames, modified again)__ Do the following to create a program that simulates how websites ensure that everyone has a unique username. \n",
    "\n",
    "- Make a list of five or more usernames called `current_users`.\n",
    "- Ask the user to input their desired username.\n",
    "- Check to see if the user's desired username is taken.\n",
    "    - If taken, print a message saying that username is taken <span style=\"rred\">and ask the user again for their desired username</span>.\n",
    "    - If not taken, print a message saying that username is available.\n",
    "- Assume usernames are case-sensitive (so `Nelson` and `nelson` are not the same)."
   ]
  },
  {
   "cell_type": "code",
   "execution_count": null,
   "metadata": {},
   "outputs": [],
   "source": [
    "# List of current users\n",
    "current_users = ['ProfessorAwesome', 'Bingham', 'RustyChipmunk', 'ShineSpike', 'IAmSam15']\n",
    "\n",
    "# Write your code below\n"
   ]
  },
  {
   "cell_type": "markdown",
   "metadata": {},
   "source": [
    "### Flags"
   ]
  },
  {
   "cell_type": "markdown",
   "metadata": {},
   "source": [
    "- A __flag__ is a variable that acts as a symbol to either stop a program or exit a loop.  \n",
    "\n",
    "- Usually a flag variable is either `True` or `False`.  \n",
    "\n",
    "- Let's use a flag and a while loop to simulate the precarious position Robin Williams found himself in during the movie *Jumanji*. In the movie, the following rule had to be observed:\n",
    "\n",
    "    > In the jungle, you must wait, until the dice read five or eight."
   ]
  },
  {
   "cell_type": "code",
   "execution_count": null,
   "metadata": {},
   "outputs": [],
   "source": [
    "# Below we import the randint function from the random library\n",
    "# so that we can \"roll\" the dice in the code below\n",
    "from random import randint\n",
    "\n",
    "# Create a flag representing whether we're in the jungle\n",
    "# Initialize flag to True\n",
    "\n",
    "\n",
    "while in_jungle:\n",
    "    # Simulate the roll of 2 dice\n",
    "\n",
    "    \n",
    "    # Get the total\n",
    "\n",
    "    \n",
    "    # If the total is 5 or 8, update the flag to False\n"
   ]
  },
  {
   "cell_type": "markdown",
   "metadata": {},
   "source": [
    "---"
   ]
  },
  {
   "cell_type": "markdown",
   "metadata": {},
   "source": [
    "## Classwork &mdash; on your own!"
   ]
  },
  {
   "cell_type": "markdown",
   "metadata": {},
   "source": [
    "__Problem 1. (PCC 7-1: Rental Car)__ Write a program that asks the user what kind of rental car they\n",
    "would like. Print a message about that car, such as\n",
    "\n",
    "```\n",
    "Let me see if I can find you a Subaru.\n",
    "```"
   ]
  },
  {
   "cell_type": "code",
   "execution_count": null,
   "metadata": {},
   "outputs": [],
   "source": []
  },
  {
   "cell_type": "markdown",
   "metadata": {},
   "source": [
    "__Problem 2. (PCC 7-3: Multiples of Ten)__ Ask the user for a number, and then report whether the\n",
    "number is a multiple of 10 or not."
   ]
  },
  {
   "cell_type": "code",
   "execution_count": null,
   "metadata": {},
   "outputs": [],
   "source": []
  },
  {
   "cell_type": "markdown",
   "metadata": {},
   "source": [
    "__Problem 3.__  Write code that asks for 2 numbers from the user and sets the variable `total` equal to their sum. Print the value of `total`."
   ]
  },
  {
   "cell_type": "code",
   "execution_count": null,
   "metadata": {},
   "outputs": [],
   "source": []
  },
  {
   "cell_type": "markdown",
   "metadata": {},
   "source": [
    "__Problem 4 (PCC 7-5: Movie Tickets).__ A movie theater charges different ticket prices depending on a person’s age. If a person is under the age of 3, the ticket is free; if they are between 3 and 12, the ticket is \\\\$10; and if they are over age 12, the ticket is \\\\$15. Write a loop in which you repeatedly ask users their age, and then tell them the cost of their movie ticket."
   ]
  },
  {
   "cell_type": "code",
   "execution_count": null,
   "metadata": {},
   "outputs": [],
   "source": []
  },
  {
   "cell_type": "markdown",
   "metadata": {},
   "source": [
    "__Problem 6. (PCC 7-6: Three Exits)__ Read pages 118-123 of PCC on `while` loops and make sure you understand the different ways of stopping a `while` loop.\n",
    "\n",
    "Write different versions of Problem 5 that do each of the following:\n",
    "\n",
    " - Use a conditional test in the while statement to stop the loop when the user enters `q`.\n",
    " - Use a flag to stop the loop when the user enters `q`.\n",
    " - Use a break statement to stop the loop when the user enters `q`."
   ]
  },
  {
   "cell_type": "code",
   "execution_count": null,
   "metadata": {},
   "outputs": [],
   "source": []
  },
  {
   "cell_type": "code",
   "execution_count": null,
   "metadata": {},
   "outputs": [],
   "source": []
  },
  {
   "cell_type": "code",
   "execution_count": null,
   "metadata": {},
   "outputs": [],
   "source": []
  },
  {
   "cell_type": "markdown",
   "metadata": {},
   "source": [
    "__Problem 7.__ Use a while loop to approximate $\\sum_{k=1}^{\\infty} \\frac{1}{k^3}$ by summing all terms whose value is greater than  $10^{-6}.$ Print your approximation."
   ]
  },
  {
   "cell_type": "code",
   "execution_count": null,
   "metadata": {},
   "outputs": [],
   "source": []
  },
  {
   "cell_type": "markdown",
   "metadata": {},
   "source": [
    "__Problem 8.__ Add up the squares from $1^2$ to $1000^2$ by\n",
    "\n",
    "1. creating a list of the squares $1^2$, $2^2$, ..., $1000^2$ __with a list comprehension__, and then \n",
    "2. compute their sum using the `sum` function. \n",
    "\n",
    "Print your answer. (This doesn't use material from this lesson; this is just a warm up for the next problem.)"
   ]
  },
  {
   "cell_type": "code",
   "execution_count": null,
   "metadata": {},
   "outputs": [],
   "source": []
  },
  {
   "cell_type": "markdown",
   "metadata": {},
   "source": [
    "__Problem 9.__  Use a `while` loop to add the squares from $1^2$ to $1000^2$. Print your answer. Hopefully you get the same answer as you did in Problem !"
   ]
  },
  {
   "cell_type": "code",
   "execution_count": null,
   "metadata": {},
   "outputs": [],
   "source": []
  },
  {
   "cell_type": "markdown",
   "metadata": {},
   "source": [
    "__Problem 10.__  What does the following code do? Run this code. Then run it with other positive integers instead of 17. What do you think happens in general? You've just made a conjecture. Compare it with the Collatz conjecture (search on the internet for this term). "
   ]
  },
  {
   "cell_type": "code",
   "execution_count": null,
   "metadata": {},
   "outputs": [],
   "source": []
  },
  {
   "cell_type": "markdown",
   "metadata": {},
   "source": [
    "_Write your notes here. Double-click to edit._"
   ]
  }
 ],
 "metadata": {
  "kernelspec": {
   "display_name": "Python 3",
   "language": "python",
   "name": "python3"
  },
  "language_info": {
   "codemirror_mode": {
    "name": "ipython",
    "version": 3
   },
   "file_extension": ".py",
   "mimetype": "text/x-python",
   "name": "python",
   "nbconvert_exporter": "python",
   "pygments_lexer": "ipython3",
   "version": "3.6.4"
  }
 },
 "nbformat": 4,
 "nbformat_minor": 2
}
